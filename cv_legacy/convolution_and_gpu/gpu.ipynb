{
  "nbformat": 4,
  "nbformat_minor": 0,
  "metadata": {
    "colab": {
      "provenance": []
    },
    "kernelspec": {
      "name": "python3",
      "display_name": "Python 3"
    },
    "language_info": {
      "name": "python"
    }
  },
  "cells": [
    {
      "cell_type": "code",
      "source": [
        "!pip install -r requirements.txt"
      ],
      "metadata": {
        "colab": {
          "base_uri": "https://localhost:8080/"
        },
        "id": "k6bGt3EtXXf9",
        "outputId": "acca0967-b832-45ab-d3e3-3f9f116ad575"
      },
      "execution_count": 22,
      "outputs": [
        {
          "output_type": "stream",
          "name": "stdout",
          "text": [
            "Requirement already satisfied: numpy in /usr/local/lib/python3.11/dist-packages (from -r requirements.txt (line 1)) (2.0.2)\n",
            "Requirement already satisfied: pandas in /usr/local/lib/python3.11/dist-packages (from -r requirements.txt (line 2)) (2.2.2)\n",
            "Requirement already satisfied: opencv-python in /usr/local/lib/python3.11/dist-packages (from -r requirements.txt (line 3)) (4.12.0.88)\n",
            "Requirement already satisfied: matplotlib in /usr/local/lib/python3.11/dist-packages (from -r requirements.txt (line 4)) (3.10.0)\n",
            "Requirement already satisfied: kagglehub in /usr/local/lib/python3.11/dist-packages (from -r requirements.txt (line 5)) (0.3.12)\n",
            "Requirement already satisfied: scipy in /usr/local/lib/python3.11/dist-packages (from -r requirements.txt (line 6)) (1.16.0)\n",
            "Requirement already satisfied: numba in /usr/local/lib/python3.11/dist-packages (from -r requirements.txt (line 7)) (0.60.0)\n",
            "Requirement already satisfied: python-dateutil>=2.8.2 in /usr/local/lib/python3.11/dist-packages (from pandas->-r requirements.txt (line 2)) (2.9.0.post0)\n",
            "Requirement already satisfied: pytz>=2020.1 in /usr/local/lib/python3.11/dist-packages (from pandas->-r requirements.txt (line 2)) (2025.2)\n",
            "Requirement already satisfied: tzdata>=2022.7 in /usr/local/lib/python3.11/dist-packages (from pandas->-r requirements.txt (line 2)) (2025.2)\n",
            "Requirement already satisfied: contourpy>=1.0.1 in /usr/local/lib/python3.11/dist-packages (from matplotlib->-r requirements.txt (line 4)) (1.3.2)\n",
            "Requirement already satisfied: cycler>=0.10 in /usr/local/lib/python3.11/dist-packages (from matplotlib->-r requirements.txt (line 4)) (0.12.1)\n",
            "Requirement already satisfied: fonttools>=4.22.0 in /usr/local/lib/python3.11/dist-packages (from matplotlib->-r requirements.txt (line 4)) (4.59.0)\n",
            "Requirement already satisfied: kiwisolver>=1.3.1 in /usr/local/lib/python3.11/dist-packages (from matplotlib->-r requirements.txt (line 4)) (1.4.8)\n",
            "Requirement already satisfied: packaging>=20.0 in /usr/local/lib/python3.11/dist-packages (from matplotlib->-r requirements.txt (line 4)) (25.0)\n",
            "Requirement already satisfied: pillow>=8 in /usr/local/lib/python3.11/dist-packages (from matplotlib->-r requirements.txt (line 4)) (11.3.0)\n",
            "Requirement already satisfied: pyparsing>=2.3.1 in /usr/local/lib/python3.11/dist-packages (from matplotlib->-r requirements.txt (line 4)) (3.2.3)\n",
            "Requirement already satisfied: pyyaml in /usr/local/lib/python3.11/dist-packages (from kagglehub->-r requirements.txt (line 5)) (6.0.2)\n",
            "Requirement already satisfied: requests in /usr/local/lib/python3.11/dist-packages (from kagglehub->-r requirements.txt (line 5)) (2.32.3)\n",
            "Requirement already satisfied: tqdm in /usr/local/lib/python3.11/dist-packages (from kagglehub->-r requirements.txt (line 5)) (4.67.1)\n",
            "Requirement already satisfied: llvmlite<0.44,>=0.43.0dev0 in /usr/local/lib/python3.11/dist-packages (from numba->-r requirements.txt (line 7)) (0.43.0)\n",
            "Requirement already satisfied: six>=1.5 in /usr/local/lib/python3.11/dist-packages (from python-dateutil>=2.8.2->pandas->-r requirements.txt (line 2)) (1.17.0)\n",
            "Requirement already satisfied: charset-normalizer<4,>=2 in /usr/local/lib/python3.11/dist-packages (from requests->kagglehub->-r requirements.txt (line 5)) (3.4.2)\n",
            "Requirement already satisfied: idna<4,>=2.5 in /usr/local/lib/python3.11/dist-packages (from requests->kagglehub->-r requirements.txt (line 5)) (3.10)\n",
            "Requirement already satisfied: urllib3<3,>=1.21.1 in /usr/local/lib/python3.11/dist-packages (from requests->kagglehub->-r requirements.txt (line 5)) (2.5.0)\n",
            "Requirement already satisfied: certifi>=2017.4.17 in /usr/local/lib/python3.11/dist-packages (from requests->kagglehub->-r requirements.txt (line 5)) (2025.7.14)\n"
          ]
        }
      ]
    },
    {
      "cell_type": "code",
      "source": [
        "import numpy as np\n",
        "from numba import cuda, float32\n",
        "import time"
      ],
      "metadata": {
        "id": "CpiTqH6XXcnz"
      },
      "execution_count": 23,
      "outputs": []
    },
    {
      "cell_type": "code",
      "source": [
        "def myconvolve2d_cpu(img, kernel):\n",
        "    kernel_height = kernel.shape[0]\n",
        "    kernel_width = kernel.shape[1]\n",
        "    pad_h = kernel_height // 2\n",
        "    pad_w = kernel_width // 2\n",
        "\n",
        "    img = np.pad(img, ((pad_h, pad_h), (pad_w, pad_w)), mode='constant')\n",
        "    out = np.zeros_like(img)\n",
        "\n",
        "    for i in range(pad_h, img.shape[0]-pad_h):\n",
        "        for j in range(pad_w, img.shape[1]-pad_w):\n",
        "            region = img[i-pad_h:i+pad_h+1, j-pad_w:j+pad_w+1]\n",
        "            out[i, j] = np.sum(region * kernel)\n",
        "\n",
        "    return out[pad_h:-pad_h, pad_w:-pad_w]\n",
        "\n",
        "@cuda.jit\n",
        "def gpu_convolve2d(img, kernel, out):\n",
        "  x, y = cuda.grid(2)\n",
        "\n",
        "  H, W = img.shape\n",
        "  if x >= 1 and x < H-1 and y >= 1 and y < W-1:\n",
        "    val = 0.0\n",
        "    for i in range(-1, 2):\n",
        "      for j in range(-1, 2):\n",
        "        val += img[x+i][y+j] * kernel[i+1][j+1]\n",
        "      out[x, y] = val\n",
        "\n",
        "def benchmark():\n",
        "    # Image and kernel\n",
        "    img = np.random.rand(1024, 1024).astype(np.float32)\n",
        "    kernel = np.array([[1, 0, -1],\n",
        "                       [1, 0, -1],\n",
        "                       [1, 0, -1]], dtype=np.float32)  # Sobel filter\n",
        "\n",
        "    # CPU time\n",
        "    start = time.perf_counter()\n",
        "    out_cpu = myconvolve2d_cpu(img, kernel)\n",
        "    cpu_time = time.perf_counter() - start\n",
        "    print(f\"CPU time: {cpu_time:.4f}s\")\n",
        "\n",
        "    # GPU mem alloc\n",
        "    d_img = cuda.to_device(img)\n",
        "    d_kernel = cuda.to_device(kernel)\n",
        "    d_out = cuda.device_array_like(img)\n",
        "\n",
        "    # configure grid/block\n",
        "    threads_per_block = (16,16) # threads per block in x and y directions\n",
        "    blocks_per_grid_x = (img.shape[0] + 15) // 16\n",
        "    blocks_per_grid_y = (img.shape[1] + 15) // 16\n",
        "    blocks_per_grid = (blocks_per_grid_x, blocks_per_grid_y)\n",
        "\n",
        "    # GPU time\n",
        "    start = time.perf_counter()\n",
        "    gpu_convolve2d[blocks_per_grid, threads_per_block](d_img, d_kernel, d_out)\n",
        "    cuda.synchronize()\n",
        "    gpu_time = time.perf_counter() - start\n",
        "    print(f\"GPU time: {gpu_time:.4f}s\")\n",
        "\n",
        "    out_gpu = d_out.copy_to_host()\n",
        "    # match gpu output to cpu output\n",
        "    out_gpu = out_gpu[1:-1, 1:-1]\n",
        "    print(\"mean absolute error: \", np.mean(np.abs(out_cpu - out_gpu)))"
      ],
      "metadata": {
        "id": "_omj1SwgfLfn"
      },
      "execution_count": 24,
      "outputs": []
    },
    {
      "cell_type": "code",
      "source": [
        "benchmark()"
      ],
      "metadata": {
        "id": "yWBGu6h_XqeX"
      },
      "execution_count": null,
      "outputs": []
    }
  ]
}