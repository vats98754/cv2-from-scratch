{
 "cells": [
  {
   "cell_type": "code",
   "execution_count": 1,
   "id": "7c437f87",
   "metadata": {},
   "outputs": [],
   "source": [
    "import sys"
   ]
  },
  {
   "cell_type": "code",
   "execution_count": 2,
   "id": "392b03b0",
   "metadata": {},
   "outputs": [
    {
     "name": "stdout",
     "output_type": "stream",
     "text": [
      "\u001b[33mDEPRECATION: Configuring installation scheme with distutils config files is deprecated and will no longer work in the near future. If you are using a Homebrew or Linuxbrew Python, please see discussion at https://github.com/Homebrew/homebrew-core/issues/76621\u001b[0m\u001b[33m\n",
      "\u001b[0mDefaulting to user installation because normal site-packages is not writeable\n",
      "Requirement already satisfied: numpy in /opt/homebrew/lib/python3.9/site-packages (from -r ../requirements.txt (line 1)) (2.0.2)\n",
      "Requirement already satisfied: pandas in /opt/homebrew/lib/python3.9/site-packages (from -r ../requirements.txt (line 2)) (2.3.1)\n",
      "Requirement already satisfied: opencv-python in /opt/homebrew/lib/python3.9/site-packages (from -r ../requirements.txt (line 3)) (4.12.0.88)\n",
      "Requirement already satisfied: matplotlib in /opt/homebrew/lib/python3.9/site-packages (from -r ../requirements.txt (line 4)) (3.9.4)\n",
      "Requirement already satisfied: kagglehub in /opt/homebrew/lib/python3.9/site-packages (from -r ../requirements.txt (line 5)) (0.3.12)\n",
      "Requirement already satisfied: scipy in /opt/homebrew/lib/python3.9/site-packages (from -r ../requirements.txt (line 6)) (1.13.1)\n",
      "Requirement already satisfied: python-dateutil>=2.8.2 in /Users/anvay-coder/Library/Python/3.9/lib/python/site-packages (from pandas->-r ../requirements.txt (line 2)) (2.9.0.post0)\n",
      "Requirement already satisfied: pytz>=2020.1 in /opt/homebrew/lib/python3.9/site-packages (from pandas->-r ../requirements.txt (line 2)) (2025.2)\n",
      "Requirement already satisfied: tzdata>=2022.7 in /opt/homebrew/lib/python3.9/site-packages (from pandas->-r ../requirements.txt (line 2)) (2025.2)\n",
      "Requirement already satisfied: contourpy>=1.0.1 in /opt/homebrew/lib/python3.9/site-packages (from matplotlib->-r ../requirements.txt (line 4)) (1.3.0)\n",
      "Requirement already satisfied: cycler>=0.10 in /opt/homebrew/lib/python3.9/site-packages (from matplotlib->-r ../requirements.txt (line 4)) (0.12.1)\n",
      "Requirement already satisfied: fonttools>=4.22.0 in /opt/homebrew/lib/python3.9/site-packages (from matplotlib->-r ../requirements.txt (line 4)) (4.58.5)\n",
      "Requirement already satisfied: kiwisolver>=1.3.1 in /opt/homebrew/lib/python3.9/site-packages (from matplotlib->-r ../requirements.txt (line 4)) (1.4.7)\n",
      "Requirement already satisfied: packaging>=20.0 in /Users/anvay-coder/Library/Python/3.9/lib/python/site-packages (from matplotlib->-r ../requirements.txt (line 4)) (25.0)\n",
      "Requirement already satisfied: pillow>=8 in /opt/homebrew/lib/python3.9/site-packages (from matplotlib->-r ../requirements.txt (line 4)) (11.3.0)\n",
      "Requirement already satisfied: pyparsing>=2.3.1 in /opt/homebrew/lib/python3.9/site-packages (from matplotlib->-r ../requirements.txt (line 4)) (3.2.3)\n",
      "Requirement already satisfied: importlib-resources>=3.2.0 in /opt/homebrew/lib/python3.9/site-packages (from matplotlib->-r ../requirements.txt (line 4)) (6.5.2)\n",
      "Requirement already satisfied: pyyaml in /opt/homebrew/lib/python3.9/site-packages (from kagglehub->-r ../requirements.txt (line 5)) (6.0.2)\n",
      "Requirement already satisfied: requests in /Users/anvay-coder/Library/Python/3.9/lib/python/site-packages (from kagglehub->-r ../requirements.txt (line 5)) (2.32.4)\n",
      "Requirement already satisfied: tqdm in /opt/homebrew/lib/python3.9/site-packages (from kagglehub->-r ../requirements.txt (line 5)) (4.67.1)\n",
      "Requirement already satisfied: zipp>=3.1.0 in /opt/homebrew/lib/python3.9/site-packages (from importlib-resources>=3.2.0->matplotlib->-r ../requirements.txt (line 4)) (3.23.0)\n",
      "Requirement already satisfied: six>=1.5 in /opt/homebrew/lib/python3.9/site-packages (from python-dateutil>=2.8.2->pandas->-r ../requirements.txt (line 2)) (1.17.0)\n",
      "Requirement already satisfied: charset_normalizer<4,>=2 in /Users/anvay-coder/Library/Python/3.9/lib/python/site-packages (from requests->kagglehub->-r ../requirements.txt (line 5)) (3.4.2)\n",
      "Requirement already satisfied: idna<4,>=2.5 in /Users/anvay-coder/Library/Python/3.9/lib/python/site-packages (from requests->kagglehub->-r ../requirements.txt (line 5)) (3.10)\n",
      "Requirement already satisfied: urllib3<3,>=1.21.1 in /Users/anvay-coder/Library/Python/3.9/lib/python/site-packages (from requests->kagglehub->-r ../requirements.txt (line 5)) (2.5.0)\n",
      "Requirement already satisfied: certifi>=2017.4.17 in /Users/anvay-coder/Library/Python/3.9/lib/python/site-packages (from requests->kagglehub->-r ../requirements.txt (line 5)) (2025.6.15)\n"
     ]
    }
   ],
   "source": [
    "!{sys.executable} -m pip install -r ../requirements.txt"
   ]
  },
  {
   "cell_type": "code",
   "execution_count": 4,
   "id": "abbcbed9",
   "metadata": {},
   "outputs": [],
   "source": [
    "import numpy as np\n",
    "import cv2\n",
    "import matplotlib.pyplot as plt\n",
    "import pandas as pd"
   ]
  },
  {
   "cell_type": "code",
   "execution_count": null,
   "id": "cc2fa1a4",
   "metadata": {},
   "outputs": [],
   "source": []
  }
 ],
 "metadata": {
  "kernelspec": {
   "display_name": "Python 3",
   "language": "python",
   "name": "python3"
  },
  "language_info": {
   "codemirror_mode": {
    "name": "ipython",
    "version": 3
   },
   "file_extension": ".py",
   "mimetype": "text/x-python",
   "name": "python",
   "nbconvert_exporter": "python",
   "pygments_lexer": "ipython3",
   "version": "3.9.22"
  }
 },
 "nbformat": 4,
 "nbformat_minor": 5
}
